{
  "nbformat": 4,
  "nbformat_minor": 0,
  "metadata": {
    "colab": {
      "name": "Untitled2.ipynb",
      "provenance": [],
      "authorship_tag": "ABX9TyNN2lL6D4Ds9MnHBNpyh8A1",
      "include_colab_link": true
    },
    "kernelspec": {
      "name": "python3",
      "display_name": "Python 3"
    },
    "language_info": {
      "name": "python"
    }
  },
  "cells": [
    {
      "cell_type": "markdown",
      "metadata": {
        "id": "view-in-github",
        "colab_type": "text"
      },
      "source": [
        "<a href=\"https://colab.research.google.com/github/uchuukaizoku/sdiufgh/blob/main/Untitled2.ipynb\" target=\"_parent\"><img src=\"https://colab.research.google.com/assets/colab-badge.svg\" alt=\"Open In Colab\"/></a>"
      ]
    },
    {
      "cell_type": "markdown",
      "metadata": {
        "id": "_xvZEK18WhUL"
      },
      "source": [
        "# **Convert Images**"
      ]
    },
    {
      "cell_type": "code",
      "metadata": {
        "cellView": "form",
        "id": "daCmsmX3UuiC"
      },
      "source": [
        "#@title Install Requirements\n",
        "!apt-get update\n",
        "!apt-get install imagemagick\n"
      ],
      "execution_count": null,
      "outputs": []
    },
    {
      "cell_type": "code",
      "metadata": {
        "cellView": "form",
        "id": "0QQQGw3CZoJg"
      },
      "source": [
        "#@title Mount drive\n",
        "from google.colab import drive\n",
        "drive.mount('/content/drive')"
      ],
      "execution_count": null,
      "outputs": []
    },
    {
      "cell_type": "code",
      "metadata": {
        "cellView": "form",
        "id": "9SMBFJ17X03l"
      },
      "source": [
        "#@title Set and convert image size\n",
        "\n",
        "Images_path = \"/content/drive/MyDrive/AI_ART/ALL_DATASETS_TEST/SAMPLES\" #@param{type:\"string\"}\n",
        "extention = \"jpg\" #@param{type:\"string\"}\n",
        "size = 256 #@param{type:\"string\"}\n",
        "cc =  \"!\" + str(size) + \"x\" + str(size)\n",
        "\n",
        "!mogrify -resize $cc  $Images_path/*.$extention\n"
      ],
      "execution_count": null,
      "outputs": []
    }
  ]
}