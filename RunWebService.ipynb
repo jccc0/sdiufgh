{
  "nbformat": 4,
  "nbformat_minor": 0,
  "metadata": {
    "colab": {
      "name": "RunWebService.ipynb",
      "provenance": [],
      "mount_file_id": "1LBHCKm8I_W9Q54JvymltXHkAnoFuwPfq",
      "authorship_tag": "ABX9TyNRj9cW9uDk2ziomli1sla9",
      "include_colab_link": true
    },
    "kernelspec": {
      "name": "python3",
      "display_name": "Python 3"
    },
    "language_info": {
      "name": "python"
    }
  },
  "cells": [
    {
      "cell_type": "markdown",
      "metadata": {
        "id": "view-in-github",
        "colab_type": "text"
      },
      "source": [
        "<a href=\"https://colab.research.google.com/github/jccc0/sdiufgh/blob/main/RunWebService.ipynb\" target=\"_parent\"><img src=\"https://colab.research.google.com/assets/colab-badge.svg\" alt=\"Open In Colab\"/></a>"
      ]
    },
    {
      "cell_type": "markdown",
      "metadata": {
        "id": "QgfRVqaKvVPZ"
      },
      "source": [
        "# **Run Web Service**"
      ]
    },
    {
      "cell_type": "code",
      "metadata": {
        "cellView": "form",
        "id": "0pN1YwzmvfXD"
      },
      "source": [
        "#@title Select Folder from Drive and Run server\n",
        "\n",
        "folderpath = \"/content/drive/MyDrive/Pix2PixWeb/Pix2PixWeb\" #@param {type:\"string\"}\n",
        "\n",
        "%cd {folderpath}\n",
        "\n",
        "from google.colab.output import eval_js\n",
        "print(eval_js(\"google.colab.kernel.proxyPort(8000)\"))\n",
        "!python -m http.server 8000"
      ],
      "execution_count": null,
      "outputs": []
    }
  ]
}