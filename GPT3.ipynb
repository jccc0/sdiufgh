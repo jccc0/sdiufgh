{
  "nbformat": 4,
  "nbformat_minor": 0,
  "metadata": {
    "colab": {
      "name": "GPT3.ipynb",
      "provenance": [],
      "include_colab_link": true
    },
    "kernelspec": {
      "name": "python3",
      "display_name": "Python 3"
    }
  },
  "cells": [
    {
      "cell_type": "markdown",
      "metadata": {
        "id": "view-in-github",
        "colab_type": "text"
      },
      "source": [
        "<a href=\"https://colab.research.google.com/github/uchuukaizoku/sdiufgh/blob/main/GPT3.ipynb\" target=\"_parent\"><img src=\"https://colab.research.google.com/assets/colab-badge.svg\" alt=\"Open In Colab\"/></a>"
      ]
    },
    {
      "cell_type": "markdown",
      "metadata": {
        "id": "6wzjBoWs5r27"
      },
      "source": [
        "# **Install Requirements**"
      ]
    },
    {
      "cell_type": "code",
      "metadata": {
        "id": "ZNXL5Jcjtn5T",
        "cellView": "form"
      },
      "source": [
        "#@title Install and import requirements\n",
        "!pip install openai\n",
        "import openai\n",
        "import json\n",
        "import pandas as pd\n",
        "import ipywidgets as widgets"
      ],
      "execution_count": null,
      "outputs": []
    },
    {
      "cell_type": "markdown",
      "metadata": {
        "id": "Ba8G_vjH58DV"
      },
      "source": [
        "# **Set Key**"
      ]
    },
    {
      "cell_type": "code",
      "metadata": {
        "id": "jMSVGrA1tnp7",
        "cellView": "form",
        "colab": {
          "base_uri": "https://localhost:8080/"
        },
        "outputId": "5de21a70-9847-4460-bd46-ca4ae08e8865"
      },
      "source": [
        "#@title Input secret value\n",
        "from getpass import getpass\n",
        "secret = getpass('Enter the secret value: ')"
      ],
      "execution_count": null,
      "outputs": [
        {
          "name": "stdout",
          "output_type": "stream",
          "text": [
            "Enter the secret value: ··········\n"
          ]
        }
      ]
    },
    {
      "cell_type": "code",
      "metadata": {
        "id": "UIIAEMpStnNM",
        "cellView": "form"
      },
      "source": [
        "#@title Set secret value\n",
        "openai.api_key = secret"
      ],
      "execution_count": null,
      "outputs": []
    },
    {
      "cell_type": "markdown",
      "metadata": {
        "id": "WKFZ4cOq1B9e"
      },
      "source": [
        "# **Set parameters**"
      ]
    },
    {
      "cell_type": "code",
      "metadata": {
        "id": "S77Hzp700vQb",
        "colab": {
          "base_uri": "https://localhost:8080/"
        },
        "cellView": "form",
        "outputId": "04454ede-feab-410b-8eee-c9c9e78da527"
      },
      "source": [
        "#@title Define parameters for \"training\"\n",
        "Base = 'Human: Hello, who are you?\\nAI: I am doing great. How can I help you today?\\n' #@param {type:\"string\"}\n",
        "Request = 'Could you tell me what your favorite animal is?'; #@param {type:\"string\"}\n",
        "myPrompt = Base + \"Human: \" + Request\n",
        "print(myPrompt)"
      ],
      "execution_count": null,
      "outputs": [
        {
          "output_type": "stream",
          "name": "stdout",
          "text": [
            "Human: Hello, who are you?\n",
            "AI: I am doing great. How can I help you today?\n",
            "Human: Could you tell me what your favorite animal is?\n"
          ]
        }
      ]
    },
    {
      "cell_type": "code",
      "metadata": {
        "id": "KXDtkPIi2XJF",
        "cellView": "form"
      },
      "source": [
        "#@title Set request \n",
        "#parameters\n",
        "myTokens = 10 #@param {type:\"number\"}\n",
        "myEngine = \"davinci\"\n",
        "myTemp = 0.85 #@param {type:\"number\"}\n",
        "myTop_p = 1\n",
        "myN=1\n",
        "myStream = None\n",
        "myLogProbs = None\n",
        "myStop = \"Human:\""
      ],
      "execution_count": null,
      "outputs": []
    },
    {
      "cell_type": "code",
      "metadata": {
        "id": "YnZODjMH2zmT",
        "colab": {
          "base_uri": "https://localhost:8080/"
        },
        "cellView": "form",
        "outputId": "a69e8ee4-b4a9-4ebe-bb24-6062a8c85fb3"
      },
      "source": [
        "#@title Send Request and Receive Response\n",
        "\n",
        "response = openai.Completion.create(\n",
        "  engine=myEngine,\n",
        "  prompt=myPrompt,\n",
        "  max_tokens=myTokens,\n",
        "  temperature=myTemp,\n",
        "  top_p=myTop_p,\n",
        "  n=myN,\n",
        "  stream = myStream,\n",
        "  logprobs=myLogProbs,\n",
        "  stop = myStop\n",
        ")\n",
        "\n",
        "print(f\"{response}\")"
      ],
      "execution_count": null,
      "outputs": [
        {
          "output_type": "stream",
          "name": "stdout",
          "text": [
            "{\n",
            "  \"choices\": [\n",
            "    {\n",
            "      \"finish_reason\": \"length\",\n",
            "      \"index\": 0,\n",
            "      \"logprobs\": null,\n",
            "      \"text\": \"\\nAI: My favorite animal is the gorilla.\"\n",
            "    }\n",
            "  ],\n",
            "  \"created\": 1634820236,\n",
            "  \"id\": \"cmpl-3vRiGQM465oxgsOt9OQgTvncaSt1i\",\n",
            "  \"model\": \"davinci:2020-05-03\",\n",
            "  \"object\": \"text_completion\"\n",
            "}\n"
          ]
        }
      ]
    }
  ]
}