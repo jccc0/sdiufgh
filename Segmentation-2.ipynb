{
  "nbformat": 4,
  "nbformat_minor": 0,
  "metadata": {
    "colab": {
      "name": "Segmentation.ipynb",
      "provenance": [],
      "collapsed_sections": []
    },
    "kernelspec": {
      "name": "python3",
      "display_name": "Python 3"
    },
    "language_info": {
      "name": "python"
    },
    "accelerator": "GPU"
  },
  "cells": [
    {
      "cell_type": "markdown",
      "metadata": {
        "id": "cw-E6msZpvwp"
      },
      "source": [
        "# **Install Requirements**"
      ]
    },
    {
      "cell_type": "code",
      "metadata": {
        "cellView": "form",
        "id": "XsuRtBv6pqit"
      },
      "source": [
        "#@title Press play to install requirements for image segmentation\n",
        "!git clone https://github.com/jccc0/image-segmentation-keras.git\n",
        "%cd image-segmentation-keras/\n",
        "!python setup.py install\n"
      ],
      "execution_count": null,
      "outputs": []
    },
    {
      "cell_type": "markdown",
      "metadata": {
        "id": "cMNe1bvCqVcd"
      },
      "source": [
        "# **Select Input and Output**"
      ]
    },
    {
      "cell_type": "code",
      "metadata": {
        "id": "8yis28MUuJ9u"
      },
      "source": [
        "#@title Select Input and Output Image\n",
        "input_Image = '/content/senno001.jpg' #@param {type:\"string\"}\n",
        "output_image = 'out2.jpg' #@param {type:\"string\"}\n",
        "\n",
        "print(input_Image)\n"
      ],
      "execution_count": null,
      "outputs": []
    },
    {
      "cell_type": "code",
      "metadata": {
        "id": "rM1roeaKu33E"
      },
      "source": [
        "#@title Run segmentation\n",
        "import tensorflow as tf\n",
        "from keras_segmentation.pretrained import pspnet_50_ADE_20K , pspnet_101_cityscapes, pspnet_101_voc12\n",
        "model = pspnet_101_cityscapes() # load the pretrained model trained on Cityscapes dataset\n",
        "\n",
        "out = model.predict_segmentation(\n",
        "    inp=input_Image,\n",
        "    out_fname=output_image\n",
        ")\n",
        "\n",
        "from IPython.display import Image\n",
        "Image(output_image)\n"
      ],
      "execution_count": null,
      "outputs": []
    }
  ]
}