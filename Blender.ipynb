{
  "nbformat": 4,
  "nbformat_minor": 0,
  "metadata": {
    "colab": {
      "name": "Blender.ipynb",
      "private_outputs": true,
      "provenance": [],
      "collapsed_sections": [],
      "machine_shape": "hm",
      "include_colab_link": true
    },
    "kernelspec": {
      "name": "python3",
      "display_name": "Python 3"
    },
    "accelerator": "GPU"
  },
  "cells": [
    {
      "cell_type": "markdown",
      "metadata": {
        "id": "view-in-github",
        "colab_type": "text"
      },
      "source": [
        "<a href=\"https://colab.research.google.com/github/jccc0/sdiufgh/blob/main/Blender.ipynb\" target=\"_parent\"><img src=\"https://colab.research.google.com/assets/colab-badge.svg\" alt=\"Open In Colab\"/></a>"
      ]
    },
    {
      "cell_type": "markdown",
      "metadata": {
        "id": "cPI5E5y0pujD"
      },
      "source": [
        "# **Install and Requirements**"
      ]
    },
    {
      "cell_type": "code",
      "metadata": {
        "id": "iKYAU7Wub3WW",
        "cellView": "form"
      },
      "source": [
        "#@title Mount google drive\n",
        "%tensorflow_version 1.x\n",
        "from google.colab import drive\n",
        "drive.mount('/content/drive')"
      ],
      "execution_count": null,
      "outputs": []
    },
    {
      "cell_type": "code",
      "metadata": {
        "id": "8HX77jscX2zV",
        "cellView": "form"
      },
      "source": [
        "#@title Generate Drive folder and Download Stylegan2-ada\n",
        "import os\n",
        "if os.path.isdir(\"/content/drive/My Drive/colab-sg2-ada\"):\n",
        "    %cd \"/content/drive/My Drive/colab-sg2-ada/stylegan2-ada\"\n",
        "else:\n",
        "    #install script\n",
        "    %cd \"/content/drive/My Drive/\"\n",
        "    !mkdir colab-sg2-ada\n",
        "    %cd colab-sg2-ada\n",
        "    !git clone https://github.com/dvschultz/stylegan2-ada\n",
        "    %cd stylegan2-ada\n",
        "    !mkdir downloads\n",
        "    !mkdir datasets\n",
        "\n",
        "%cd \"/content/drive/My Drive/colab-sg2-ada/stylegan2-ada\""
      ],
      "execution_count": null,
      "outputs": []
    },
    {
      "cell_type": "markdown",
      "metadata": {
        "id": "pDQZ39rwQbKa"
      },
      "source": [
        "# **Blend 2 Models**\n",
        "\n"
      ]
    },
    {
      "cell_type": "code",
      "metadata": {
        "id": "Vw4CiSfTQhCm",
        "cellView": "form"
      },
      "source": [
        "#@title Settigns for model blending\n",
        "\n",
        "model1 = \"/content/drive/MyDrive/colab-sg2-ada/stylegan2-ada/results/00002-seacreatures-mirror-mirrory-11gb-gpu-bg-resumeafhqwild512/network-snapshot-000208.pkl\" #@param {type: \"string\"}\n",
        "model2 = \"/content/drive/MyDrive/colab-sg2-ada/stylegan2-ada/results/00006-ceilinglights4-mirror-mirrory-11gb-gpu-bg-resumecustom/network-snapshot-000264.pkl\" #@param {type: \"string\"}\n",
        "output_path = \"/content/drive/MyDrive/colab-sg2-ada/stylegan2-ada/blends\" #@param {type: \"string\"}\n",
        "\n",
        "!pip install typer\n",
        "#!python blend_models.py --help\n",
        "%mkdir {output_path}/\n",
        "!touch {output_path}/grid.jpg \n",
        "!python blend_models.py {model2} {model1} 128 --output-grid {output_path}/grid.jpg --output-pkl {output_path}/output.pkl "
      ],
      "execution_count": null,
      "outputs": []
    },
    {
      "cell_type": "markdown",
      "metadata": {
        "id": "rOQ4gAVUVXCP"
      },
      "source": [
        "# **Generate Images and Video** "
      ]
    },
    {
      "cell_type": "code",
      "metadata": {
        "cellView": "form",
        "id": "9tWGw142Vpl7"
      },
      "source": [
        "#@title Generate Images\n",
        "pkl_path = \"/content/drive/MyDrive/colab-sg2-ada/stylegan2-ada/blends/output.pkl\" #@param {type: \"string\"}\n",
        "seeds = \"0-200\" #@param {type: \"string\"}\n",
        "\n",
        "!pip install opensimplex\n",
        "!python generate.py generate-images --network {pkl_path} --seeds {seeds}\n"
      ],
      "execution_count": null,
      "outputs": []
    },
    {
      "cell_type": "code",
      "metadata": {
        "cellView": "form",
        "id": "sjcG6x9EYG7d"
      },
      "source": [
        "#@title Generate Latent Walk Video\n",
        "pkl_path = \"/content/drive/MyDrive/colab-sg2-ada/stylegan2-ada/blends/output.pkl\" #@param {type: \"string\"}\n",
        "seeds = \"1254-1266\" #@param {type: \"string\"}\n",
        "\n",
        "!pip install opensimplex\n",
        "!python generate.py generate-latent-walk --network {pkl_path} --seeds {seeds}\n"
      ],
      "execution_count": null,
      "outputs": []
    },
    {
      "cell_type": "code",
      "metadata": {
        "id": "2O5GQMl7ZhKg",
        "cellView": "form"
      },
      "source": [
        "#@title Generate Lerp Video\n",
        "pkl_path = \"/content/drive/MyDrive/colab-sg2-ada/stylegan2-ada/blends/output.pkl\" #@param {type: \"string\"}\n",
        "seeds = \"1254-1266\" #@param {type: \"string\"}\n",
        "\n",
        "!pip install opensimplex\n",
        "!python generate.py lerp-video --network {pkl_path} --seeds {seeds}\n"
      ],
      "execution_count": null,
      "outputs": []
    }
  ]
}